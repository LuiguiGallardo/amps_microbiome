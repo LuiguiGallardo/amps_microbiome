{
 "cells": [
  {
   "cell_type": "code",
   "execution_count": 1,
   "metadata": {},
   "outputs": [],
   "source": [
    "import os\n",
    "import pandas as pd\n",
    "import seaborn as sns\n",
    "import numpy as np\n",
    "import matplotlib.pyplot as plt"
   ]
  },
  {
   "cell_type": "code",
   "execution_count": 2,
   "metadata": {},
   "outputs": [],
   "source": [
    "data = pd.read_csv(\"./amps_allsamples.tsv\", delimiter=\"\\t\", index_col=0).T\n",
    "\n",
    "data[\"group\"] = [\"obese\", \"obese\", \"obese\", \"oms\", \"oms\", \"oms\"]\n",
    "\n",
    "my_colors = [\"orange\", \"red\"]\n",
    "sns.set_palette(my_colors)"
   ]
  },
  {
   "cell_type": "code",
   "execution_count": 3,
   "metadata": {},
   "outputs": [
    {
     "data": {
      "text/plain": [
       "<Figure size 640x480 with 0 Axes>"
      ]
     },
     "metadata": {},
     "output_type": "display_data"
    }
   ],
   "source": [
    "def makemydir(whatever):\n",
    "    try:\n",
    "        os.makedirs(whatever)\n",
    "    except OSError:\n",
    "        pass\n",
    "\n",
    "for dir in [\"02_allsamples/log10\", \"02_allsamples/abundance\"]:\n",
    "    makemydir(dir)\n",
    "\n",
    "\n",
    "def boxplot(feature):\n",
    "    sns.boxplot(data=data, x=data[\"group\"], y=data[feature])\n",
    "    plt.title(feature)\n",
    "    plt.xlabel(\"\")\n",
    "    plt.ylabel(\"Abundance\")\n",
    "    plt.tight_layout()\n",
    "    plt.savefig(\"./02_allsamples/abundance/{feature}.svg\".format(feature=feature))\n",
    "    plt.savefig(\"./02_allsamples/abundance/{feature}.png\".format(feature=feature))\n",
    "    plt.clf()\n",
    "\n",
    "\n",
    "def boxplot_log10(feature):\n",
    "    sns.boxplot(data=data, x=data[\"group\"], y=np.log10(data[feature]))\n",
    "    plt.title(feature)\n",
    "    plt.xlabel(\"\")\n",
    "    plt.ylabel(\"log10(Abundance)\")\n",
    "    plt.tight_layout()\n",
    "    plt.savefig(\"./02_allsamples/log10/{feature}_log10.svg\".format(feature=feature))\n",
    "    plt.savefig(\"./02_allsamples/log10/{feature}_log10.png\".format(feature=feature))\n",
    "    plt.clf()\n",
    "\n",
    "\n",
    "for amp in data.columns:\n",
    "    if \"AMP\" in amp:\n",
    "        boxplot(amp)\n",
    "        boxplot_log10(amp)"
   ]
  },
  {
   "cell_type": "code",
   "execution_count": 4,
   "metadata": {},
   "outputs": [
    {
     "data": {
      "text/plain": [
       "<Figure size 640x480 with 0 Axes>"
      ]
     },
     "metadata": {},
     "output_type": "display_data"
    }
   ],
   "source": [
    "# Heatmap\n",
    "data.pop(\"group\")\n",
    "# print(data)\n",
    "\n",
    "heatmap = sns.heatmap(\n",
    "    np.log(data.T),\n",
    "    xticklabels=True,\n",
    "    yticklabels=True,\n",
    "    cmap=\"BuPu\",\n",
    "    cbar_kws={\"label\": \"log10(Abundance)\"},\n",
    ")\n",
    "plt.xlabel(\"Samples\")\n",
    "plt.ylabel(\"AMPs\")\n",
    "plt.tick_params(labelsize=6)\n",
    "plt.tight_layout()\n",
    "plt.savefig(\"./02_allsamples/heatmap_log10.svg\")\n",
    "plt.savefig(\"./02_allsamples/heatmap_log10.png\")\n",
    "plt.clf()"
   ]
  }
 ],
 "metadata": {
  "kernelspec": {
   "display_name": "Python 3",
   "language": "python",
   "name": "python3"
  },
  "language_info": {
   "codemirror_mode": {
    "name": "ipython",
    "version": 3
   },
   "file_extension": ".py",
   "mimetype": "text/x-python",
   "name": "python",
   "nbconvert_exporter": "python",
   "pygments_lexer": "ipython3",
   "version": "3.10.8"
  },
  "orig_nbformat": 4
 },
 "nbformat": 4,
 "nbformat_minor": 2
}
