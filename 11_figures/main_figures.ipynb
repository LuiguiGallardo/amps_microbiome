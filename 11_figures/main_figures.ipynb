{
 "cells": [
  {
   "cell_type": "markdown",
   "metadata": {},
   "source": [
    "## Figure 1: Venn Diagram and Length plot"
   ]
  },
  {
   "cell_type": "code",
   "execution_count": 23,
   "metadata": {},
   "outputs": [
    {
     "name": "stderr",
     "output_type": "stream",
     "text": [
      "Fontconfig warning: ignoring UTF-8: not a valid region tag\n"
     ]
    },
    {
     "data": {
      "text/plain": [
       "CompletedProcess(args=['/Applications/Inkscape.app/Contents/MacOS/inkscape', '--export-background=FFFFFF', '--export-type=png', '--export-width=2400', '--export-filename=fig1.png', 'fig1.svg'], returncode=0)"
      ]
     },
     "execution_count": 23,
     "metadata": {},
     "output_type": "execute_result"
    }
   ],
   "source": [
    "import svgutils.transform as sg\n",
    "import subprocess\n",
    "\n",
    "# Creation of a new svg figure\n",
    "fig1 = sg.SVGFigure()\n",
    "\n",
    "# Load svg panels\n",
    "figA = sg.fromfile('../04_venn/venn_result.svg')\n",
    "figB = sg.fromfile('../00_assembly/420_transcripts_m2.pep.svg')\n",
    "\n",
    "# Creation of new objects\n",
    "plotA = figA.getroot()\n",
    "plotB = figB.getroot()\n",
    "plotA.moveto(5, 0, scale_x=0.35)\n",
    "plotB.moveto(140, 5, scale_x=0.35)\n",
    "\n",
    "# Information about panels\n",
    "txtA = sg.TextElement(5, 15, \"A\", size=12, weight=\"bold\")\n",
    "txtB = sg.TextElement(140, 15, \"B\", size=12, weight=\"bold\")\n",
    "\n",
    "# Append plots and panels to the figures\n",
    "fig1.append([plotA, plotB])\n",
    "fig1.append([txtA, txtB])\n",
    "\n",
    "# Save generated SVG files\n",
    "fig1.save(\"fig1.svg\")\n",
    "\n",
    "# Convert from svg to png with Inkscape\n",
    "subprocess.run(['/Applications/Inkscape.app/Contents/MacOS/inkscape', '--export-background=FFFFFF', '--export-type=png', '--export-width=2400', '--export-filename=fig1.png', 'fig1.svg'])"
   ]
  },
  {
   "cell_type": "markdown",
   "metadata": {},
   "source": [
    "<img src=\"./fig1.png\" alt=\"fig1\" style=\"zoom:20%;\"/>"
   ]
  },
  {
   "cell_type": "markdown",
   "metadata": {},
   "source": [
    "## Figure 2: Species with AMPs, blastn classification\n",
    "### Note: Without modifications"
   ]
  },
  {
   "cell_type": "code",
   "execution_count": 24,
   "metadata": {},
   "outputs": [
    {
     "data": {
      "text/plain": [
       "CompletedProcess(args=['cp', '../10_blastn_besthit/taxa_sum_filt.png', 'fig2.png'], returncode=0)"
      ]
     },
     "execution_count": 24,
     "metadata": {},
     "output_type": "execute_result"
    }
   ],
   "source": [
    "# Copy fig2\n",
    "subprocess.run(['cp', '../10_blastn_besthit/taxa_sum_filt.svg', 'fig2.svg'])\n",
    "subprocess.run(['cp', '../10_blastn_besthit/taxa_sum_filt.png', 'fig2.png'])"
   ]
  },
  {
   "cell_type": "markdown",
   "metadata": {},
   "source": [
    "<img src=\"./fig2.png\" alt=\"fig2\" style=\"zoom:60%;\"/>"
   ]
  },
  {
   "cell_type": "markdown",
   "metadata": {},
   "source": [
    "## Figure 3: AMPs present in all samples and Top30"
   ]
  },
  {
   "cell_type": "code",
   "execution_count": 25,
   "metadata": {},
   "outputs": [
    {
     "name": "stderr",
     "output_type": "stream",
     "text": [
      "Fontconfig warning: ignoring UTF-8: not a valid region tag\n"
     ]
    },
    {
     "data": {
      "text/plain": [
       "CompletedProcess(args=['/Applications/Inkscape.app/Contents/MacOS/inkscape', '--export-background=FFFFFF', '--export-type=png', '--export-width=2400', '--export-filename=fig3.png', 'fig3.svg'], returncode=0)"
      ]
     },
     "execution_count": 25,
     "metadata": {},
     "output_type": "execute_result"
    }
   ],
   "source": [
    "# Creation of a new svg figure\n",
    "fig3 = sg.SVGFigure()\n",
    "\n",
    "# Load svg panels\n",
    "figA = sg.fromfile('../07_heatmaps_boxplots/02_allsamples/heatmap_log10.svg')\n",
    "figB = sg.fromfile('../07_heatmaps_boxplots/03_top30/heatmap_log10.svg')\n",
    "\n",
    "# Creation of new objects\n",
    "plotA = figA.getroot()\n",
    "plotB = figB.getroot()\n",
    "plotA.moveto(5, 5, scale_x=0.33)\n",
    "plotB.moveto(150, 5, scale_x=0.33)\n",
    "\n",
    "# Information about panels\n",
    "txtA = sg.TextElement(5, 10, \"A\", size=10, weight=\"bold\")\n",
    "txtB = sg.TextElement(150, 10, \"B\", size=10, weight=\"bold\")\n",
    "\n",
    "# Append plots and panels to the figures\n",
    "fig3.append([plotA, plotB])\n",
    "fig3.append([txtA, txtB])\n",
    "\n",
    "# Save generated SVG files\n",
    "fig3.save(\"fig3.svg\")\n",
    "\n",
    "# Convert from svg to png with Inkscape\n",
    "subprocess.run(['/Applications/Inkscape.app/Contents/MacOS/inkscape', '--export-background=FFFFFF', '--export-type=png', '--export-width=2400', '--export-filename=fig3.png', 'fig3.svg'])"
   ]
  },
  {
   "cell_type": "markdown",
   "metadata": {},
   "source": [
    "<img src=\"./fig3.png\" alt=\"fig3\" style=\"zoom:20%;\"/>"
   ]
  },
  {
   "cell_type": "markdown",
   "metadata": {},
   "source": [
    "## Figure 4: Overexpressed AMPs, heatmap and volcano plot"
   ]
  },
  {
   "cell_type": "code",
   "execution_count": 26,
   "metadata": {},
   "outputs": [
    {
     "name": "stderr",
     "output_type": "stream",
     "text": [
      "Fontconfig warning: ignoring UTF-8: not a valid region tag\n"
     ]
    },
    {
     "data": {
      "text/plain": [
       "CompletedProcess(args=['/Applications/Inkscape.app/Contents/MacOS/inkscape', '--export-background=FFFFFF', '--export-type=png', '--export-width=2400', '--export-filename=fig4.png', 'fig4.svg'], returncode=0)"
      ]
     },
     "execution_count": 26,
     "metadata": {},
     "output_type": "execute_result"
    }
   ],
   "source": [
    "# Creation of a new svg figure\n",
    "fig4 = sg.SVGFigure()\n",
    "\n",
    "# Load svg panels\n",
    "figA = sg.fromfile('../06_deseq2/volcano_plot.svg')\n",
    "figB = sg.fromfile('../07_heatmaps_boxplots/01_overexpressed/heatmap_log10.svg')\n",
    "\n",
    "# Creation of new objects\n",
    "plotA = figA.getroot()\n",
    "plotB = figB.getroot()\n",
    "plotA.moveto(5, -15, scale_x=0.28)\n",
    "plotB.moveto(150, 5, scale_x=0.33)\n",
    "\n",
    "# Information about panels\n",
    "txtA = sg.TextElement(5, 10, \"A\", size=10, weight=\"bold\")\n",
    "txtB = sg.TextElement(150, 10, \"B\", size=10, weight=\"bold\")\n",
    "\n",
    "# Append plots and panels to the figures\n",
    "fig4.append([plotA, plotB])\n",
    "fig4.append([txtA, txtB])\n",
    "\n",
    "# Save generated SVG files\n",
    "fig4.save(\"fig4.svg\")\n",
    "\n",
    "# Convert from svg to png with Inkscape\n",
    "subprocess.run(['/Applications/Inkscape.app/Contents/MacOS/inkscape', '--export-background=FFFFFF', '--export-type=png', '--export-width=2400', '--export-filename=fig4.png', 'fig4.svg'])"
   ]
  }
 ],
 "metadata": {
  "kernelspec": {
   "display_name": "Python 3 (ipykernel)",
   "language": "python",
   "name": "python3"
  },
  "language_info": {
   "codemirror_mode": {
    "name": "ipython",
    "version": 3
   },
   "file_extension": ".py",
   "mimetype": "text/x-python",
   "name": "python",
   "nbconvert_exporter": "python",
   "pygments_lexer": "ipython3",
   "version": "3.9.17"
  }
 },
 "nbformat": 4,
 "nbformat_minor": 2
}
