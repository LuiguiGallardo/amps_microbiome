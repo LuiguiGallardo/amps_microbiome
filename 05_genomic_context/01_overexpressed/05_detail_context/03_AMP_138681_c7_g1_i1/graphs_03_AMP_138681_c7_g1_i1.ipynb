{
 "cells": [
  {
   "cell_type": "code",
   "execution_count": 2,
   "metadata": {},
   "outputs": [
    {
     "data": {
      "text/plain": [
       "<Figure size 640x480 with 0 Axes>"
      ]
     },
     "metadata": {},
     "output_type": "display_data"
    }
   ],
   "source": [
    "import pandas as pd\n",
    "import seaborn as sns\n",
    "import matplotlib.pyplot as plt\n",
    "import numpy as np\n",
    "\n",
    "# Function to plot the coverage per base of a genome with and without zoom\n",
    "def coverage_graph(input, output, amp_start, amp_end, zoom_start=None, zoom_end=None, title=None, total_coverage=None):\n",
    "    df = pd.read_csv(input, sep='\\t', names=['genome','base', 'coverage'])\n",
    "\n",
    "    sns.lineplot(data=df, x='base', y='coverage')\n",
    "    plt.title(title + '\\n' + 'Total coverage: ' + total_coverage)\n",
    "    plt.xlabel('Nucleotide position')\n",
    "    plt.ylabel('Coverage')\n",
    "    plt.axvline(x=amp_start, color='red', linestyle='--')\n",
    "    plt.axvline(x=amp_end, color='red', linestyle='--')\n",
    "    plt.savefig(output)\n",
    "    plt.clf()\n",
    "\n",
    "    if zoom_start and zoom_end:\n",
    "        sns.lineplot(data=df, x='base', y='coverage')\n",
    "        plt.xlim(zoom_start, zoom_end)\n",
    "        plt.title(title + '\\n' + 'Total coverage: ' + total_coverage)\n",
    "        plt.xlabel('Nucleotide position')\n",
    "        plt.ylabel('Coverage')\n",
    "        plt.axvline(x=amp_start, color='red', linestyle='--')\n",
    "        plt.axvline(x=amp_end, color='red', linestyle='--')\n",
    "        plt.savefig(output.replace('.svg', '_zoom.svg'))\n",
    "        # plt.savefig(output.replace('.svg', '_zoom.svg'))\n",
    "        plt.clf()\n",
    "        \n",
    "# Execution of the function for each genome\n",
    "coverage_graph(input='./01_besthit_Caudoviricetes_sp._isolate_ctlNO7_allsamples_aligned_genomecov.txt',\n",
    "               output='./01_besthit_Caudoviricetes_sp._isolate_ctlNO7_allsamples_aligned_genomecov.svg',\n",
    "               amp_start=116,\n",
    "               amp_end=463,\n",
    "               zoom_start=1,\n",
    "               zoom_end=10562,\n",
    "               title='Caudoviricetes sp. isolate ctlNO7',\n",
    "               total_coverage='12.82%')\n",
    "\n",
    "# coverage_graph(input='./02_besthit_Clostridiales_bacterium_isolate_KR001_HIC_0007_allsamples_aligned_genomecov.txt',\n",
    "#                output='./02_besthit_Clostridiales_bacterium_isolate_KR001_HIC_0007_allsamples_aligned_genomecov.png',\n",
    "#                amp_start=2213911,\n",
    "#                amp_end=2214257,\n",
    "#                zoom_start=2203894,\n",
    "#                zoom_end=2224357,\n",
    "#                title='Clostridiales bacterium isolate KR001 HIC 0007',\n",
    "#                total_coverage='39.83%')\n",
    "\n",
    "coverage_graph(input='./03_besthit_Caudoviricetes_sp._isolate_ctUyu4_allsamples_aligned_genomecov.txt',\n",
    "               output='./03_besthit_Caudoviricetes_sp._isolate_ctUyu4_allsamples_aligned_genomecov.svg',\n",
    "               amp_start=14793,\n",
    "               amp_end=15140,\n",
    "               zoom_start=4776,\n",
    "               zoom_end=16000,\n",
    "               title='Caudoviricetes sp. isolate ctUyu4',\n",
    "               total_coverage='23.56%')\n",
    "\n",
    "# coverage_graph(input='./04_besthit_Caudoviricetes_sp._isolate_ctInE22_allsamples_aligned_genomecov.txt',\n",
    "#                output='./04_besthit_Caudoviricetes_sp._isolate_ctInE22_allsamples_aligned_genomecov.png',\n",
    "#                amp_start=117,\n",
    "#                amp_end=462,\n",
    "#                zoom_start=1,\n",
    "#                zoom_end=10563,\n",
    "#                title='Caudoviricetes sp. isolate ctInE22',\n",
    "#                total_coverage='12.66%')\n",
    "\n",
    "# coverage_graph(input='./05_besthit_Caudoviricetes_sp._isolate_ctvmC4_allsamples_aligned_genomecov.txt',\n",
    "#                output='./05_besthit_Caudoviricetes_sp._isolate_ctvmC4_allsamples_aligned_genomecov.png',\n",
    "#                amp_start=117,\n",
    "#                amp_end=462,\n",
    "#                zoom_start=1,\n",
    "#                zoom_end=10563,\n",
    "#                title='Caudoviricetes sp. isolate ctvmC4',\n",
    "#                total_coverage='25.97%')\n",
    "\n",
    "coverage_graph(input='./06_fagome_scaffold_11136_viral_allsamples_aligned_genomecov.txt',\n",
    "               output='./06_fagome_scaffold_11136_viral_allsamples_aligned_genomecov.svg',\n",
    "               amp_start=4056,\n",
    "               amp_end=4158,\n",
    "               zoom_start=3800,\n",
    "               zoom_end=4200,\n",
    "               title='New phage scaffold 11136',\n",
    "               total_coverage='45.92%')\n"
   ]
  }
 ],
 "metadata": {
  "kernelspec": {
   "display_name": "Python 3",
   "language": "python",
   "name": "python3"
  },
  "language_info": {
   "codemirror_mode": {
    "name": "ipython",
    "version": 3
   },
   "file_extension": ".py",
   "mimetype": "text/x-python",
   "name": "python",
   "nbconvert_exporter": "python",
   "pygments_lexer": "ipython3",
   "version": "3.9.6"
  }
 },
 "nbformat": 4,
 "nbformat_minor": 2
}
