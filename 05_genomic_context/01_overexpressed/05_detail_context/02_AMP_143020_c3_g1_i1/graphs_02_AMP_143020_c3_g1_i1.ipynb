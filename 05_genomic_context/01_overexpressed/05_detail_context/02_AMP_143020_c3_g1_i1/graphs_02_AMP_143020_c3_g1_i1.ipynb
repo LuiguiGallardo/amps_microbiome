{
 "cells": [
  {
   "cell_type": "code",
   "execution_count": 3,
   "metadata": {},
   "outputs": [
    {
     "data": {
      "text/plain": [
       "<Figure size 640x480 with 0 Axes>"
      ]
     },
     "metadata": {},
     "output_type": "display_data"
    }
   ],
   "source": [
    "import pandas as pd\n",
    "import seaborn as sns\n",
    "import matplotlib.pyplot as plt\n",
    "import numpy as np\n",
    "\n",
    "# Function to plot the coverage per base of a genome with and without zoom\n",
    "def coverage_graph(input, output, amp_start, amp_end, zoom_start=None, zoom_end=None, title=None, total_coverage=None):\n",
    "    df = pd.read_csv(input, sep='\\t', names=['genome','base', 'coverage'])\n",
    "\n",
    "    sns.lineplot(data=df, x='base', y='coverage')\n",
    "    plt.title(title + '\\n' + 'Total coverage: ' + total_coverage)\n",
    "    plt.xlabel('Nucleotide position')\n",
    "    plt.ylabel('Coverage')\n",
    "    plt.axvline(x=amp_start, color='red', linestyle='--')\n",
    "    plt.axvline(x=amp_end, color='red', linestyle='--')\n",
    "    plt.savefig(output)\n",
    "    plt.clf()\n",
    "\n",
    "    if zoom_start and zoom_end:\n",
    "        sns.lineplot(data=df, x='base', y='coverage')\n",
    "        plt.xlim(zoom_start, zoom_end)\n",
    "        plt.title(title + '\\n' + 'Total coverage: ' + total_coverage)\n",
    "        plt.xlabel('Nucleotide position')\n",
    "        plt.ylabel('Coverage')\n",
    "        plt.axvline(x=amp_start, color='red', linestyle='--')\n",
    "        plt.axvline(x=amp_end, color='red', linestyle='--')\n",
    "        plt.savefig(output.replace('.svg', '_zoom.svg'))\n",
    "        plt.clf()\n",
    "        \n",
    "# Execution of the function for each genome\n",
    "coverage_graph(input='./01_besthit_Caudorviricetes_sp._isolate_ctJ1L4_allsamples_aligned_genomecov.txt',\n",
    "               output='./01_besthit_Caudorviricetes_sp._isolate_ctJ1L4_allsamples_aligned_genomecov.svg',\n",
    "               amp_start=19543,\n",
    "               amp_end=19898,\n",
    "               zoom_start=9526,\n",
    "               zoom_end=29989,\n",
    "               title='Caudorviricetes sp. isolate ctJ1L4',\n",
    "               total_coverage='14.70%')\n",
    "\n",
    "# coverage_graph(input='./02_besthit_Caudoviricetes_sp._isolate_ctzDR1_allsamples_aligned_genomecov.txt',\n",
    "#                output='./02_besthit_Caudoviricetes_sp._isolate_ctzDR1_allsamples_aligned_genomecov.png',\n",
    "#                amp_start=15016,\n",
    "#                amp_end=15374,\n",
    "#                zoom_start=4999,\n",
    "#                zoom_end=25462,\n",
    "#                title='Caudoviricetes sp. isolate ctzDR1',\n",
    "#                total_coverage='13.39%')\n",
    "\n",
    "# coverage_graph(input='./03_besthit_Anaerotignum_sp._MB30-C6_allsamples_aligned_genomecov.txt',\n",
    "#                output='./03_besthit_Anaerotignum_sp._MB30-C6_allsamples_aligned_genomecov.png',\n",
    "#                amp_start=2477315,\n",
    "#                amp_end=2477669,\n",
    "#                zoom_start=2467298,\n",
    "#                zoom_end=2487761,\n",
    "#                title='Anaerotignum sp. MB30-C6',\n",
    "#                total_coverage='2.67%')\n",
    "\n",
    "# coverage_graph(input='./04_besthit_Anaerotignum_propionicum_DSM_1682_allsamples_aligned_genomecov.txt',\n",
    "#                output='./04_besthit_Anaerotignum_propionicum_DSM_1682_allsamples_aligned_genomecov.png',\n",
    "#                amp_start=2496741,\n",
    "#                amp_end=2497093,\n",
    "#                zoom_start=2486724,\n",
    "#                zoom_end=2507184,\n",
    "#                title='Anaerotignum propionicum DSM 1682',\n",
    "#                total_coverage='2.59%')\n",
    "\n",
    "# coverage_graph(input='./05_besthit_Clostridium_sp._MD294_strain_ASF356_allsamples_aligned_genomecov.txt',\n",
    "#                output='./05_besthit_Clostridium_sp._MD294_strain_ASF356_allsamples_aligned_genomecov.png',\n",
    "#                amp_start=1388458,\n",
    "#                amp_end=1388805,\n",
    "#                zoom_start=1378441,\n",
    "#                zoom_end=1398904,\n",
    "#                title='Clostridium sp. MD294 strain ASF356',\n",
    "#                total_coverage='1.86%')\n",
    "\n"
   ]
  }
 ],
 "metadata": {
  "kernelspec": {
   "display_name": "Python 3",
   "language": "python",
   "name": "python3"
  },
  "language_info": {
   "codemirror_mode": {
    "name": "ipython",
    "version": 3
   },
   "file_extension": ".py",
   "mimetype": "text/x-python",
   "name": "python",
   "nbconvert_exporter": "python",
   "pygments_lexer": "ipython3",
   "version": "3.9.6"
  }
 },
 "nbformat": 4,
 "nbformat_minor": 2
}
