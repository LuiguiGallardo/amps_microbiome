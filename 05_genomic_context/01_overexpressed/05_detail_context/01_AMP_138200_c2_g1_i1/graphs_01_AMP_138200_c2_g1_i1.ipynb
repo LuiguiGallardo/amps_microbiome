{
 "cells": [
  {
   "cell_type": "code",
   "execution_count": 2,
   "metadata": {},
   "outputs": [
    {
     "data": {
      "text/plain": [
       "<Figure size 640x480 with 0 Axes>"
      ]
     },
     "metadata": {},
     "output_type": "display_data"
    }
   ],
   "source": [
    "import pandas as pd\n",
    "import seaborn as sns\n",
    "import matplotlib.pyplot as plt\n",
    "import numpy as np\n",
    "\n",
    "# Function to plot the coverage per base of a genome with and without zoom\n",
    "def coverage_graph(input, output, amp_start, amp_end, zoom_start=None, zoom_end=None, title=None, total_coverage=None):\n",
    "    df = pd.read_csv(input, sep='\\t', names=['genome','base', 'coverage'])\n",
    "\n",
    "    sns.lineplot(data=df, x='base', y='coverage')\n",
    "    plt.title(title + '\\n' + 'Total coverage: ' + total_coverage)\n",
    "    plt.xlabel('Nucleotide position')\n",
    "    plt.ylabel('Coverage')\n",
    "    plt.axvline(x=amp_start, color='red', linestyle='--')\n",
    "    plt.axvline(x=amp_end, color='red', linestyle='--')\n",
    "    plt.savefig(output)\n",
    "    plt.clf()\n",
    "\n",
    "    if zoom_start and zoom_end:\n",
    "        sns.lineplot(data=df, x='base', y='coverage')\n",
    "        plt.xlim(zoom_start, zoom_end)\n",
    "        plt.title(title + '\\n' + 'Total coverage: ' + total_coverage)\n",
    "        plt.xlabel('Nucleotide position')\n",
    "        plt.ylabel('Coverage')\n",
    "        plt.axvline(x=amp_start, color='red', linestyle='--')\n",
    "        plt.axvline(x=amp_end, color='red', linestyle='--')\n",
    "        plt.savefig(output.replace('.svg', '_zoom.svg'))\n",
    "        plt.clf()\n",
    "        \n",
    "# Execution of the function for each genome\n",
    "coverage_graph(input='./01_besthit_Phocaeicola_dorei_strain_2_plasmid_allsamples_aligned_genomecov.txt',\n",
    "               output='./01_besthit_Phocaeicola_dorei_strain_2_plasmid_allsamples_aligned_genomecov.svg',\n",
    "               amp_start=71409,\n",
    "               amp_end=72152,\n",
    "               zoom_start=61372,\n",
    "               zoom_end=80844,\n",
    "               title='Phocaeicola dorei strain 2 plasmid',\n",
    "               total_coverage='95.54%')\n",
    "\n",
    "# coverage_graph(input='./02_besthit_Bacteroides_thetaiotaomicron_strain_WAL8669_allsamples_aligned_genomecov.txt',\n",
    "#                output='./02_besthit_Bacteroides_thetaiotaomicron_strain_WAL8669_allsamples_aligned_genomecov.png',\n",
    "#                amp_start=5750504,\n",
    "#                amp_end=5751247,\n",
    "#                zoom_start=5740467,\n",
    "#                zoom_end=5761284,\n",
    "#                title='Bacteroides thetaiotaomicron strain WAL8669',\n",
    "#                total_coverage='29.12%')\n",
    "\n",
    "# coverage_graph(input='./03_besthit_Bacteroides_salyersiae_strain_WAL7960_allsamples_aligned_genomecov.txt',\n",
    "#                output='./03_besthit_Bacteroides_salyersiae_strain_WAL7960_allsamples_aligned_genomecov.png',\n",
    "#                amp_start=217666,\n",
    "#                amp_end=218409,\n",
    "#                zoom_start=207629,\n",
    "#                zoom_end=228446,\n",
    "#                title='Bacteroides salyersiae strain WAL7960',\n",
    "#                total_coverage='10.25%')\n",
    "\n",
    "# coverage_graph(input='./04_besthit_Bacteroides_faecis_strain_BFG-493_allsamples_aligned_genomecov.txt',\n",
    "#                output='./04_besthit_Bacteroides_faecis_strain_BFG-493_allsamples_aligned_genomecov.png',\n",
    "#                amp_start=5391998,\n",
    "#                amp_end=5392741,\n",
    "#                zoom_start=5381961,\n",
    "#                zoom_end=5402777,\n",
    "#                title='Bacteroides faecis strain BFG-493',\n",
    "#                total_coverage='24.71%')\n",
    "\n",
    "# coverage_graph(input='./05_besthit_Phocaeicola_dorei_strain_JR01_allsamples_aligned_genomecov.txt',\n",
    "#                output='./05_besthit_Phocaeicola_dorei_strain_JR01_allsamples_aligned_genomecov.png',\n",
    "#                amp_start=1750994,\n",
    "#                amp_end=1751737,\n",
    "#                zoom_start=1740957,\n",
    "#                zoom_end=1761774,\n",
    "#                title='Phocaeicola dorei strain JR01',\n",
    "#                total_coverage='74.73%')\n",
    "\n"
   ]
  }
 ],
 "metadata": {
  "kernelspec": {
   "display_name": "Python 3",
   "language": "python",
   "name": "python3"
  },
  "language_info": {
   "codemirror_mode": {
    "name": "ipython",
    "version": 3
   },
   "file_extension": ".py",
   "mimetype": "text/x-python",
   "name": "python",
   "nbconvert_exporter": "python",
   "pygments_lexer": "ipython3",
   "version": "3.9.6"
  }
 },
 "nbformat": 4,
 "nbformat_minor": 2
}
