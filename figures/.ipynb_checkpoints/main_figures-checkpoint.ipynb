{
 "cells": [
  {
   "cell_type": "markdown",
   "metadata": {},
   "source": [
    "## Figure 1:"
   ]
  },
  {
   "cell_type": "code",
   "execution_count": 4,
   "metadata": {},
   "outputs": [
    {
     "data": {
      "text/plain": [
       "CompletedProcess(args=['/Applications/Inkscape.app/Contents/MacOS/inkscape', '--export-background=FFFFFF', '--export-type=png', '--export-width=2400', '--export-filename=fig1.png', 'fig1.svg'], returncode=0)"
      ]
     },
     "execution_count": 4,
     "metadata": {},
     "output_type": "execute_result"
    }
   ],
   "source": [
    "import svgutils.transform as sg\n",
    "import subprocess\n",
    "\n",
    "# Creation of a new svg figure\n",
    "fig = sg.SVGFigure()\n",
    "\n",
    "# Load svg panels\n",
    "fig1 = sg.fromfile('../04_venn/venn_result.svg')\n",
    "fig2 = sg.fromfile('../00_assembly/420_transcripts_m2.pep.svg')\n",
    "\n",
    "# Creation of new objects\n",
    "plot1 = fig1.getroot()\n",
    "plot2 = fig2.getroot()\n",
    "plot1.moveto(5, 0, scale_x=0.35)\n",
    "plot2.moveto(140, 5, scale_x=0.35)\n",
    "\n",
    "# Information about panels\n",
    "txt1 = sg.TextElement(5, 15, \"A\", size=12, weight=\"bold\")\n",
    "txt2 = sg.TextElement(140, 15, \"B\", size=12, weight=\"bold\")\n",
    "\n",
    "# Append plots and panels to the figures\n",
    "fig.append([plot1, plot2])\n",
    "fig.append([txt1, txt2])\n",
    "\n",
    "# Save generated SVG files\n",
    "fig.save(\"fig1.svg\")\n",
    "\n",
    "# Convert from svg to png with Inkscape\n",
    "subprocess.run(['/Applications/Inkscape.app/Contents/MacOS/inkscape', '--export-background=FFFFFF', '--export-type=png', '--export-width=2400', '--export-filename=fig1.png', 'fig1.svg'])"
   ]
  },
  {
   "cell_type": "markdown",
   "metadata": {},
   "source": [
    "<img src=\"./fig1.png\" alt=\"fig1\" style=\"zoom:20%;\"/>"
   ]
  },
  {
   "cell_type": "markdown",
   "metadata": {},
   "source": []
  }
 ],
 "metadata": {
  "kernelspec": {
   "display_name": "Python 3 (ipykernel)",
   "language": "python",
   "name": "python3"
  },
  "language_info": {
   "codemirror_mode": {
    "name": "ipython",
    "version": 3
   },
   "file_extension": ".py",
   "mimetype": "text/x-python",
   "name": "python",
   "nbconvert_exporter": "python",
   "pygments_lexer": "ipython3",
   "version": "3.9.17"
  }
 },
 "nbformat": 4,
 "nbformat_minor": 2
}
