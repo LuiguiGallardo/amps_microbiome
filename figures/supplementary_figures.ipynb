{
 "cells": [
  {
   "cell_type": "code",
   "execution_count": null,
   "metadata": {},
   "outputs": [],
   "source": [
    "import svgutils.transform as sg\n",
    "import subprocess\n",
    "# import cairosvg\n",
    "from PIL import Image, ImageDraw, ImageFont"
   ]
  },
  {
   "cell_type": "code",
   "execution_count": null,
   "metadata": {},
   "outputs": [],
   "source": [
    "## Supplementary figures"
   ]
  },
  {
   "cell_type": "code",
   "execution_count": null,
   "metadata": {},
   "outputs": [],
   "source": [
    "# Creation of a new svg figure\n",
    "fig2 = sg.SVGFigure()\n",
    "\n",
    "# Load svg panels\n",
    "figA = sg.fromfile('../04_venn/venn_diagram.svg')\n",
    "figB = sg.fromfile('../17_megan6/193_amps_trans_norm_format.svg')\n",
    "\n",
    "# Creation of new objects\n",
    "plotA = figA.getroot()\n",
    "plotB = figB.getroot()\n",
    "\n",
    "plotA.moveto(-45, -25, scale_x=0.48)\n",
    "plotB.moveto(136, 5, scale_x=0.24)\n",
    "\n",
    "# Information about panels\n",
    "txtA = sg.TextElement(1, 7, \"A\", size=8, weight=\"bold\")\n",
    "txtB = sg.TextElement(140, 7, \"B\", size=8, weight=\"bold\")\n",
    "\n",
    "# Append plots and panels to the figures\n",
    "fig2.append([plotA, plotB])\n",
    "fig2.append([txtA, txtB])\n",
    "\n",
    "# Save generated SVG files\n",
    "fig2.save(\"fig2.svg\")\n",
    "\n",
    "# Convert from svg to png with Inkscape\n",
    "subprocess.run(['/Applications/Inkscape.app/Contents/MacOS/inkscape', '--export-background=FFFFFF', '--export-type=png', '--export-width=3000', '--export-filename=fig2.png', 'fig2.svg'])"
   ]
  },
  {
   "cell_type": "code",
   "execution_count": null,
   "metadata": {},
   "outputs": [],
   "source": [
    "import pandas as pd\n",
    "import matplotlib.pyplot as plt\n",
    "import numpy as np\n",
    "\n",
    "# Load the data from the TSV file\n",
    "file_path = '../08_other_files/final_selection_amps.tsv'  # Replace with your actual file path\n",
    "df = pd.read_csv(file_path, sep='\\t')\n",
    "\n",
    "# Melt the DataFrame to long format\n",
    "df_melted = df.melt(id_vars=['amp.id', 'Group'], var_name='Feature', value_name='Value')\n",
    "\n",
    "# Normalize the 'Value' column to a range between 0.1 and 1\n",
    "df_melted['Value_normalized'] = (df_melted['Value'] - df_melted['Value'].min()) / (df_melted['Value'].max() - df_melted['Value'].min()) * 0.9 + 0.1\n",
    "\n",
    "# Get unique groups and features\n",
    "groups = df['Group'].unique()\n",
    "features = df_melted['Feature'].unique()\n",
    "\n",
    "# Create the plot\n",
    "fig, ax = plt.subplots(figsize=(5, 8))\n",
    "\n",
    "# Define colors for each group\n",
    "colors = ['red', 'orange']\n",
    "\n",
    "# Create bubble plot\n",
    "for group, color in zip(groups, colors):\n",
    "    subset = df_melted[df_melted['Group'] == group]\n",
    "    ax.scatter(subset['Feature'], subset['amp.id'], s=subset['Value'] * 25, alpha=subset['Value_normalized'], label=group, color=color)\n",
    "\n",
    "# Customize plot\n",
    "ax.set_xlabel('')\n",
    "ax.set_ylabel('')\n",
    "ax.set_title('Final AMPs Selection')\n",
    "plt.xticks(rotation=45, ha='right')\n",
    "\n",
    "# Place the legend under the plot\n",
    "ax.legend(title='Group', bbox_to_anchor=(-0.25, 0), loc='upper right')\n",
    "\n",
    "plt.tight_layout()\n",
    "plt.savefig('fig6.png')\n",
    "plt.savefig('fig6.svg')\n",
    "# plt.show()\n",
    "plt.clf()"
   ]
  }
 ],
 "metadata": {
  "language_info": {
   "name": "python"
  }
 },
 "nbformat": 4,
 "nbformat_minor": 2
}
