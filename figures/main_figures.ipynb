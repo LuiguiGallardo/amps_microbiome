{
 "cells": [
  {
   "cell_type": "markdown",
   "metadata": {},
   "source": [
    "## Figure 1: Pipeline\n",
    "\n",
    "### Note: Without modifications"
   ]
  },
  {
   "cell_type": "code",
   "execution_count": 1,
   "metadata": {},
   "outputs": [
    {
     "data": {
      "text/plain": [
       "CompletedProcess(args=['cp', '../08_other_files/pipeline.png', 'fig1.png'], returncode=0)"
      ]
     },
     "execution_count": 1,
     "metadata": {},
     "output_type": "execute_result"
    }
   ],
   "source": [
    "import svgutils.transform as sg\n",
    "import subprocess\n",
    "\n",
    "# Copy fig1\n",
    "subprocess.run(['cp', '../08_other_files/pipeline.svg', 'fig1.svg'])\n",
    "subprocess.run(['cp', '../08_other_files/pipeline.png', 'fig1.png'])"
   ]
  },
  {
   "cell_type": "markdown",
   "metadata": {},
   "source": [
    "<img src=\"./fig1.png\" alt=\"fig1\" style=\"zoom:20%;\"/>"
   ]
  },
  {
   "cell_type": "markdown",
   "metadata": {},
   "source": [
    "## Figure 2: Venn Diagram and Length plot"
   ]
  },
  {
   "cell_type": "code",
   "execution_count": 7,
   "metadata": {},
   "outputs": [
    {
     "name": "stderr",
     "output_type": "stream",
     "text": [
      "Fontconfig warning: ignoring UTF-8: not a valid region tag\n"
     ]
    },
    {
     "data": {
      "text/plain": [
       "CompletedProcess(args=['/Applications/Inkscape.app/Contents/MacOS/inkscape', '--export-background=FFFFFF', '--export-type=png', '--export-width=2400', '--export-filename=fig2.png', 'fig2.svg'], returncode=0)"
      ]
     },
     "execution_count": 7,
     "metadata": {},
     "output_type": "execute_result"
    }
   ],
   "source": [
    "# Creation of a new svg figure\n",
    "fig2 = sg.SVGFigure()\n",
    "\n",
    "# Load svg panels\n",
    "figA = sg.fromfile('../04_venn/venn_diagram.svg')\n",
    "figB = sg.fromfile('../12_apd3_data/length_distribution.svg')\n",
    "figC = sg.fromfile('../12_apd3_data/gravy_net_charge_distribution.svg')\n",
    "figD = sg.fromfile('../12_apd3_data/aa_distribution.svg')\n",
    "\n",
    "# Creation of new objects\n",
    "plotA = figA.getroot()\n",
    "plotB = figB.getroot()\n",
    "plotC = figC.getroot()\n",
    "plotD = figD.getroot()\n",
    "plotA.moveto(-10, -10, scale_x=0.23)\n",
    "plotB.moveto(86, -5, scale_x=0.23)\n",
    "plotC.moveto(5, 65, scale_x=0.2)\n",
    "plotD.moveto(86, 70, scale_x=0.23)\n",
    "\n",
    "# Information about panels\n",
    "txtA = sg.TextElement(2, 10, \"A\", size=8, weight=\"bold\")\n",
    "txtB = sg.TextElement(87, 10, \"B\", size=8, weight=\"bold\")\n",
    "txtC = sg.TextElement(2, 85, \"C\", size=8, weight=\"bold\")\n",
    "txtD = sg.TextElement(87, 85, \"D\", size=8, weight=\"bold\")\n",
    "\n",
    "# Append plots and panels to the figures\n",
    "fig2.append([plotA, plotB, plotD, plotC])\n",
    "fig2.append([txtA, txtB, txtD, txtC])\n",
    "\n",
    "# Save generated SVG files\n",
    "fig2.save(\"fig2.svg\")\n",
    "\n",
    "# Convert from svg to png with Inkscape\n",
    "subprocess.run(['/Applications/Inkscape.app/Contents/MacOS/inkscape', '--export-background=FFFFFF', '--export-type=png', '--export-width=2400', '--export-filename=fig2.png', 'fig2.svg'])"
   ]
  },
  {
   "cell_type": "markdown",
   "metadata": {},
   "source": [
    "<img src=\"./fig2.png\" alt=\"fig2\" style=\"zoom:20%;\"/>"
   ]
  },
  {
   "cell_type": "markdown",
   "metadata": {},
   "source": [
    "## Figure 3: AMPs taxonomical classification, AMPs present in all samples, Overexpressed AMPs"
   ]
  },
  {
   "cell_type": "code",
   "execution_count": 58,
   "metadata": {},
   "outputs": [
    {
     "name": "stderr",
     "output_type": "stream",
     "text": [
      "Fontconfig warning: ignoring UTF-8: not a valid region tag\n"
     ]
    },
    {
     "data": {
      "text/plain": [
       "CompletedProcess(args=['/Applications/Inkscape.app/Contents/MacOS/inkscape', '--export-background=FFFFFF', '--export-type=png', '--export-width=2400', '--export-filename=fig3.png', 'fig3.svg'], returncode=0)"
      ]
     },
     "execution_count": 58,
     "metadata": {},
     "output_type": "execute_result"
    }
   ],
   "source": [
    "# Creation of a new svg figure\n",
    "fig3 = sg.SVGFigure()\n",
    "\n",
    "# Load svg panels\n",
    "figA = sg.fromfile('../10_blastn_besthit/taxa_sum_filt.svg')\n",
    "figB = sg.fromfile('../07_overexpressed_AMPs/02_allsamples/heatmap_log10.svg')\n",
    "figC = sg.fromfile('../06_deseq2/volcano_plot.svg')\n",
    "figD = sg.fromfile('../07_overexpressed_AMPs/01_overexpressed/heatmap_log10.svg')\n",
    "\n",
    "# Creation of new objects\n",
    "plotA = figA.getroot()\n",
    "plotB = figB.getroot()\n",
    "plotC = figC.getroot()\n",
    "plotD = figD.getroot()\n",
    "plotA.moveto(0, 0, scale_x=0.2)\n",
    "plotB.moveto(95, 0, scale_x=0.2)\n",
    "plotC.moveto(0, 65, scale_x=0.18)\n",
    "plotD.moveto(95, 80, scale_x=0.2)\n",
    "\n",
    "# Information about panels\n",
    "txtA = sg.TextElement(1, 7, \"A\", size=6, weight=\"bold\")\n",
    "txtB = sg.TextElement(93, 7, \"B\", size=6, weight=\"bold\")\n",
    "txtC = sg.TextElement(1, 85, \"C\", size=6, weight=\"bold\")\n",
    "txtD = sg.TextElement(93, 85, \"D\", size=6, weight=\"bold\")\n",
    "\n",
    "# Append plots and panels to the figures\n",
    "fig3.append([plotA, plotB, plotD, plotC])\n",
    "fig3.append([txtA, txtB, txtD, txtC])\n",
    "\n",
    "# Save generated SVG files\n",
    "fig3.save(\"fig3.svg\")\n",
    "\n",
    "# Convert from svg to png with Inkscape\n",
    "subprocess.run(['/Applications/Inkscape.app/Contents/MacOS/inkscape', '--export-background=FFFFFF', '--export-type=png', '--export-width=2400', '--export-filename=fig3.png', 'fig3.svg'])"
   ]
  },
  {
   "cell_type": "markdown",
   "metadata": {},
   "source": [
    "<img src=\"./fig3.png\" alt=\"fig3\" style=\"zoom:20%;\"/>"
   ]
  },
  {
   "cell_type": "markdown",
   "metadata": {},
   "source": [
    "## Figure 4: Overexpressed AMPs more information"
   ]
  },
  {
   "cell_type": "code",
   "execution_count": 105,
   "metadata": {},
   "outputs": [
    {
     "name": "stderr",
     "output_type": "stream",
     "text": [
      "Fontconfig warning: ignoring UTF-8: not a valid region tag\n"
     ]
    },
    {
     "data": {
      "text/plain": [
       "CompletedProcess(args=['/Applications/Inkscape.app/Contents/MacOS/inkscape', '--export-background=FFFFFF', '--export-type=png', '--export-width=2400', '--export-filename=fig4.png', 'fig4.svg'], returncode=0)"
      ]
     },
     "execution_count": 105,
     "metadata": {},
     "output_type": "execute_result"
    }
   ],
   "source": [
    "# Creation of a new svg figure\n",
    "fig4 = sg.SVGFigure()\n",
    "\n",
    "# Load svg panels\n",
    "figA = sg.fromfile('../11_gravy_net_overexpressed/overexpressed_gravy_net_charge_distribution.svg')\n",
    "figB = sg.fromfile('../07_overexpressed_AMPs/03_barplot_overexpressed/barplot_overexpressed.svg')\n",
    "figC = sg.fromfile('../07_overexpressed_AMPs/04_boxplot_overexpressed/boxplot_overexpressed_ob.svg')\n",
    "figD = sg.fromfile('../07_overexpressed_AMPs/04_boxplot_overexpressed/boxplot_overexpressed_oms.svg')\n",
    "\n",
    "# Creation of new objects\n",
    "plotA = figA.getroot()\n",
    "plotB = figB.getroot()\n",
    "plotC = figC.getroot()\n",
    "plotD = figD.getroot()\n",
    "plotA.moveto(0, 0, scale_x=0.2)\n",
    "plotB.moveto(85, 7, scale_x=0.22)\n",
    "plotC.moveto(2, 85, scale_x=0.18)\n",
    "plotD.moveto(98, 85, scale_x=0.19)\n",
    "\n",
    "# Information about panels\n",
    "txtA = sg.TextElement(1, 12, \"A\", size=6, weight=\"bold\")\n",
    "txtB = sg.TextElement(95, 12, \"B\", size=6, weight=\"bold\")\n",
    "txtC = sg.TextElement(1, 90, \"C\", size=6, weight=\"bold\")\n",
    "txtD = sg.TextElement(95, 90, \"D\", size=6, weight=\"bold\")\n",
    "\n",
    "# Append plots and panels to the figures\n",
    "fig4.append([plotA, plotB, plotD, plotC])\n",
    "fig4.append([txtA, txtB, txtD, txtC])\n",
    "\n",
    "# Save generated SVG files\n",
    "fig4.save(\"fig4.svg\")\n",
    "\n",
    "# Convert from svg to png with Inkscape\n",
    "subprocess.run(['/Applications/Inkscape.app/Contents/MacOS/inkscape', '--export-background=FFFFFF', '--export-type=png', '--export-width=2400', '--export-filename=fig4.png', 'fig4.svg'])"
   ]
  },
  {
   "cell_type": "markdown",
   "metadata": {},
   "source": [
    "<img src=\"./fig4.png\" alt=\"fig4\" style=\"zoom:20%;\"/>"
   ]
  },
  {
   "cell_type": "markdown",
   "metadata": {},
   "source": [
    "## Figure 5: Overexpressed AMPs, heatmap and volcano plot"
   ]
  },
  {
   "cell_type": "code",
   "execution_count": 6,
   "metadata": {},
   "outputs": [
    {
     "name": "stderr",
     "output_type": "stream",
     "text": [
      "Fontconfig warning: ignoring UTF-8: not a valid region tag\n"
     ]
    },
    {
     "data": {
      "text/plain": [
       "CompletedProcess(args=['/Applications/Inkscape.app/Contents/MacOS/inkscape', '--export-background=FFFFFF', '--export-type=png', '--export-width=2400', '--export-filename=fig5.png', 'fig5.svg'], returncode=0)"
      ]
     },
     "execution_count": 6,
     "metadata": {},
     "output_type": "execute_result"
    }
   ],
   "source": [
    "# Creation of a new svg figure\n",
    "fig5 = sg.SVGFigure()\n",
    "\n",
    "# Load svg panels\n",
    "figA = sg.fromfile('../06_deseq2/volcano_plot.svg')\n",
    "figB = sg.fromfile('../07_heatmaps_boxplots/01_overexpressed/heatmap_log10.svg')\n",
    "\n",
    "# Creation of new objects\n",
    "plotA = figA.getroot()\n",
    "plotB = figB.getroot()\n",
    "plotA.moveto(5, -15, scale_x=0.28)\n",
    "plotB.moveto(150, 5, scale_x=0.33)\n",
    "\n",
    "# Information about panels\n",
    "txtA = sg.TextElement(5, 10, \"A\", size=10, weight=\"bold\")\n",
    "txtB = sg.TextElement(150, 10, \"B\", size=10, weight=\"bold\")\n",
    "\n",
    "# Append plots and panels to the figures\n",
    "fig5.append([plotA, plotB])\n",
    "fig5.append([txtA, txtB])\n",
    "\n",
    "# Save generated SVG files\n",
    "fig5.save(\"fig5.svg\")\n",
    "\n",
    "# Convert from svg to png with Inkscape\n",
    "subprocess.run(['/Applications/Inkscape.app/Contents/MacOS/inkscape', '--export-background=FFFFFF', '--export-type=png', '--export-width=2400', '--export-filename=fig5.png', 'fig5.svg'])"
   ]
  },
  {
   "cell_type": "markdown",
   "metadata": {},
   "source": [
    "<img src=\"./fig5.png\" alt=\"fig5\" style=\"zoom:20%;\"/>"
   ]
  }
 ],
 "metadata": {
  "kernelspec": {
   "display_name": "Python 3 (ipykernel)",
   "language": "python",
   "name": "python3"
  },
  "language_info": {
   "codemirror_mode": {
    "name": "ipython",
    "version": 3
   },
   "file_extension": ".py",
   "mimetype": "text/x-python",
   "name": "python",
   "nbconvert_exporter": "python",
   "pygments_lexer": "ipython3",
   "version": "3.9.17"
  }
 },
 "nbformat": 4,
 "nbformat_minor": 2
}
